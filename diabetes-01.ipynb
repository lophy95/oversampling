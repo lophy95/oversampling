{
 "cells": [
  {
   "cell_type": "code",
   "execution_count": 1,
   "id": "ccfc4ab0",
   "metadata": {
    "_cell_guid": "b1076dfc-b9ad-4769-8c92-a6c4dae69d19",
    "_uuid": "8f2839f25d086af736a60e9eeb907d3b93b6e0e5",
    "execution": {
     "iopub.execute_input": "2022-10-11T14:05:59.327035Z",
     "iopub.status.busy": "2022-10-11T14:05:59.326478Z",
     "iopub.status.idle": "2022-10-11T14:06:05.626850Z",
     "shell.execute_reply": "2022-10-11T14:06:05.625637Z"
    },
    "papermill": {
     "duration": 6.313264,
     "end_time": "2022-10-11T14:06:05.629936",
     "exception": false,
     "start_time": "2022-10-11T14:05:59.316672",
     "status": "completed"
    },
    "tags": []
   },
   "outputs": [
    {
     "name": "stderr",
     "output_type": "stream",
     "text": [
      "/opt/conda/lib/python3.7/site-packages/geopandas/_compat.py:115: UserWarning:\n",
      "\n",
      "The Shapely GEOS version (3.9.1-CAPI-1.14.2) is incompatible with the GEOS version PyGEOS was compiled with (3.10.3-CAPI-1.16.1). Conversions between both will be slow.\n",
      "\n"
     ]
    }
   ],
   "source": [
    "import numpy as np \n",
    "import pandas as pd\n",
    "from sklearn.model_selection import train_test_split\n",
    "from sklearn.ensemble import RandomForestClassifier \n",
    "from sklearn.linear_model import LogisticRegression\n",
    "from sklearn.metrics import accuracy_score, classification_report, confusion_matrix, mean_squared_error\n",
    "from pandas_profiling import ProfileReport\n",
    "from sklearn.neighbors import KNeighborsClassifier\n",
    "from sklearn.tree import DecisionTreeClassifier\n",
    "from mlxtend.plotting import plot_confusion_matrix\n",
    "from sklearn import tree\n",
    "import math\n",
    "import warnings\n",
    "import os\n",
    "import plotly.graph_objects as go\n",
    "import plotly.offline as po\n",
    "from plotly.offline import download_plotlyjs, init_notebook_mode, plot, iplot\n",
    "import plotly.express as px\n",
    "import random\n",
    "import plotly.figure_factory as ff\n",
    "from plotly import tools\n",
    "from plotly.subplots import make_subplots\n",
    "from plotly.offline import iplot\n",
    "%matplotlib inline\n",
    "import matplotlib.pyplot as plt\n",
    "import seaborn as sns\n",
    "warnings.filterwarnings('ignore')"
   ]
  },
  {
   "cell_type": "code",
   "execution_count": 2,
   "id": "82dd1361",
   "metadata": {
    "execution": {
     "iopub.execute_input": "2022-10-11T14:06:05.648540Z",
     "iopub.status.busy": "2022-10-11T14:06:05.648018Z",
     "iopub.status.idle": "2022-10-11T14:06:06.665804Z",
     "shell.execute_reply": "2022-10-11T14:06:06.664449Z"
    },
    "papermill": {
     "duration": 1.029779,
     "end_time": "2022-10-11T14:06:06.668777",
     "exception": false,
     "start_time": "2022-10-11T14:06:05.638998",
     "status": "completed"
    },
    "tags": []
   },
   "outputs": [],
   "source": [
    "df = pd.read_csv('../input/diabetes-health-indicators-dataset/diabetes_binary_health_indicators_BRFSS2015.csv')"
   ]
  },
  {
   "cell_type": "code",
   "execution_count": 3,
   "id": "138fdb26",
   "metadata": {
    "execution": {
     "iopub.execute_input": "2022-10-11T14:06:06.684815Z",
     "iopub.status.busy": "2022-10-11T14:06:06.683400Z",
     "iopub.status.idle": "2022-10-11T14:06:06.727445Z",
     "shell.execute_reply": "2022-10-11T14:06:06.725533Z"
    },
    "papermill": {
     "duration": 0.055714,
     "end_time": "2022-10-11T14:06:06.731122",
     "exception": false,
     "start_time": "2022-10-11T14:06:06.675408",
     "status": "completed"
    },
    "tags": []
   },
   "outputs": [
    {
     "name": "stdout",
     "output_type": "stream",
     "text": [
      "<class 'pandas.core.frame.DataFrame'>\n",
      "RangeIndex: 253680 entries, 0 to 253679\n",
      "Data columns (total 22 columns):\n",
      " #   Column                Non-Null Count   Dtype  \n",
      "---  ------                --------------   -----  \n",
      " 0   Diabetes_binary       253680 non-null  float64\n",
      " 1   HighBP                253680 non-null  float64\n",
      " 2   HighChol              253680 non-null  float64\n",
      " 3   CholCheck             253680 non-null  float64\n",
      " 4   BMI                   253680 non-null  float64\n",
      " 5   Smoker                253680 non-null  float64\n",
      " 6   Stroke                253680 non-null  float64\n",
      " 7   HeartDiseaseorAttack  253680 non-null  float64\n",
      " 8   PhysActivity          253680 non-null  float64\n",
      " 9   Fruits                253680 non-null  float64\n",
      " 10  Veggies               253680 non-null  float64\n",
      " 11  HvyAlcoholConsump     253680 non-null  float64\n",
      " 12  AnyHealthcare         253680 non-null  float64\n",
      " 13  NoDocbcCost           253680 non-null  float64\n",
      " 14  GenHlth               253680 non-null  float64\n",
      " 15  MentHlth              253680 non-null  float64\n",
      " 16  PhysHlth              253680 non-null  float64\n",
      " 17  DiffWalk              253680 non-null  float64\n",
      " 18  Sex                   253680 non-null  float64\n",
      " 19  Age                   253680 non-null  float64\n",
      " 20  Education             253680 non-null  float64\n",
      " 21  Income                253680 non-null  float64\n",
      "dtypes: float64(22)\n",
      "memory usage: 42.6 MB\n"
     ]
    }
   ],
   "source": [
    "df.info()"
   ]
  },
  {
   "cell_type": "code",
   "execution_count": 4,
   "id": "f3dac11d",
   "metadata": {
    "execution": {
     "iopub.execute_input": "2022-10-11T14:06:06.747624Z",
     "iopub.status.busy": "2022-10-11T14:06:06.746802Z",
     "iopub.status.idle": "2022-10-11T14:06:06.786255Z",
     "shell.execute_reply": "2022-10-11T14:06:06.785266Z"
    },
    "papermill": {
     "duration": 0.050637,
     "end_time": "2022-10-11T14:06:06.788767",
     "exception": false,
     "start_time": "2022-10-11T14:06:06.738130",
     "status": "completed"
    },
    "tags": []
   },
   "outputs": [
    {
     "data": {
      "text/html": [
       "<div>\n",
       "<style scoped>\n",
       "    .dataframe tbody tr th:only-of-type {\n",
       "        vertical-align: middle;\n",
       "    }\n",
       "\n",
       "    .dataframe tbody tr th {\n",
       "        vertical-align: top;\n",
       "    }\n",
       "\n",
       "    .dataframe thead th {\n",
       "        text-align: right;\n",
       "    }\n",
       "</style>\n",
       "<table border=\"1\" class=\"dataframe\">\n",
       "  <thead>\n",
       "    <tr style=\"text-align: right;\">\n",
       "      <th></th>\n",
       "      <th>Diabetes_binary</th>\n",
       "      <th>HighBP</th>\n",
       "      <th>HighChol</th>\n",
       "      <th>CholCheck</th>\n",
       "      <th>BMI</th>\n",
       "      <th>Smoker</th>\n",
       "      <th>Stroke</th>\n",
       "      <th>HeartDiseaseorAttack</th>\n",
       "      <th>PhysActivity</th>\n",
       "      <th>Fruits</th>\n",
       "      <th>...</th>\n",
       "      <th>AnyHealthcare</th>\n",
       "      <th>NoDocbcCost</th>\n",
       "      <th>GenHlth</th>\n",
       "      <th>MentHlth</th>\n",
       "      <th>PhysHlth</th>\n",
       "      <th>DiffWalk</th>\n",
       "      <th>Sex</th>\n",
       "      <th>Age</th>\n",
       "      <th>Education</th>\n",
       "      <th>Income</th>\n",
       "    </tr>\n",
       "  </thead>\n",
       "  <tbody>\n",
       "    <tr>\n",
       "      <th>0</th>\n",
       "      <td>0.0</td>\n",
       "      <td>1.0</td>\n",
       "      <td>1.0</td>\n",
       "      <td>1.0</td>\n",
       "      <td>40.0</td>\n",
       "      <td>1.0</td>\n",
       "      <td>0.0</td>\n",
       "      <td>0.0</td>\n",
       "      <td>0.0</td>\n",
       "      <td>0.0</td>\n",
       "      <td>...</td>\n",
       "      <td>1.0</td>\n",
       "      <td>0.0</td>\n",
       "      <td>5.0</td>\n",
       "      <td>18.0</td>\n",
       "      <td>15.0</td>\n",
       "      <td>1.0</td>\n",
       "      <td>0.0</td>\n",
       "      <td>9.0</td>\n",
       "      <td>4.0</td>\n",
       "      <td>3.0</td>\n",
       "    </tr>\n",
       "    <tr>\n",
       "      <th>1</th>\n",
       "      <td>0.0</td>\n",
       "      <td>0.0</td>\n",
       "      <td>0.0</td>\n",
       "      <td>0.0</td>\n",
       "      <td>25.0</td>\n",
       "      <td>1.0</td>\n",
       "      <td>0.0</td>\n",
       "      <td>0.0</td>\n",
       "      <td>1.0</td>\n",
       "      <td>0.0</td>\n",
       "      <td>...</td>\n",
       "      <td>0.0</td>\n",
       "      <td>1.0</td>\n",
       "      <td>3.0</td>\n",
       "      <td>0.0</td>\n",
       "      <td>0.0</td>\n",
       "      <td>0.0</td>\n",
       "      <td>0.0</td>\n",
       "      <td>7.0</td>\n",
       "      <td>6.0</td>\n",
       "      <td>1.0</td>\n",
       "    </tr>\n",
       "    <tr>\n",
       "      <th>2</th>\n",
       "      <td>0.0</td>\n",
       "      <td>1.0</td>\n",
       "      <td>1.0</td>\n",
       "      <td>1.0</td>\n",
       "      <td>28.0</td>\n",
       "      <td>0.0</td>\n",
       "      <td>0.0</td>\n",
       "      <td>0.0</td>\n",
       "      <td>0.0</td>\n",
       "      <td>1.0</td>\n",
       "      <td>...</td>\n",
       "      <td>1.0</td>\n",
       "      <td>1.0</td>\n",
       "      <td>5.0</td>\n",
       "      <td>30.0</td>\n",
       "      <td>30.0</td>\n",
       "      <td>1.0</td>\n",
       "      <td>0.0</td>\n",
       "      <td>9.0</td>\n",
       "      <td>4.0</td>\n",
       "      <td>8.0</td>\n",
       "    </tr>\n",
       "    <tr>\n",
       "      <th>3</th>\n",
       "      <td>0.0</td>\n",
       "      <td>1.0</td>\n",
       "      <td>0.0</td>\n",
       "      <td>1.0</td>\n",
       "      <td>27.0</td>\n",
       "      <td>0.0</td>\n",
       "      <td>0.0</td>\n",
       "      <td>0.0</td>\n",
       "      <td>1.0</td>\n",
       "      <td>1.0</td>\n",
       "      <td>...</td>\n",
       "      <td>1.0</td>\n",
       "      <td>0.0</td>\n",
       "      <td>2.0</td>\n",
       "      <td>0.0</td>\n",
       "      <td>0.0</td>\n",
       "      <td>0.0</td>\n",
       "      <td>0.0</td>\n",
       "      <td>11.0</td>\n",
       "      <td>3.0</td>\n",
       "      <td>6.0</td>\n",
       "    </tr>\n",
       "    <tr>\n",
       "      <th>4</th>\n",
       "      <td>0.0</td>\n",
       "      <td>1.0</td>\n",
       "      <td>1.0</td>\n",
       "      <td>1.0</td>\n",
       "      <td>24.0</td>\n",
       "      <td>0.0</td>\n",
       "      <td>0.0</td>\n",
       "      <td>0.0</td>\n",
       "      <td>1.0</td>\n",
       "      <td>1.0</td>\n",
       "      <td>...</td>\n",
       "      <td>1.0</td>\n",
       "      <td>0.0</td>\n",
       "      <td>2.0</td>\n",
       "      <td>3.0</td>\n",
       "      <td>0.0</td>\n",
       "      <td>0.0</td>\n",
       "      <td>0.0</td>\n",
       "      <td>11.0</td>\n",
       "      <td>5.0</td>\n",
       "      <td>4.0</td>\n",
       "    </tr>\n",
       "  </tbody>\n",
       "</table>\n",
       "<p>5 rows × 22 columns</p>\n",
       "</div>"
      ],
      "text/plain": [
       "   Diabetes_binary  HighBP  HighChol  CholCheck   BMI  Smoker  Stroke  \\\n",
       "0              0.0     1.0       1.0        1.0  40.0     1.0     0.0   \n",
       "1              0.0     0.0       0.0        0.0  25.0     1.0     0.0   \n",
       "2              0.0     1.0       1.0        1.0  28.0     0.0     0.0   \n",
       "3              0.0     1.0       0.0        1.0  27.0     0.0     0.0   \n",
       "4              0.0     1.0       1.0        1.0  24.0     0.0     0.0   \n",
       "\n",
       "   HeartDiseaseorAttack  PhysActivity  Fruits  ...  AnyHealthcare  \\\n",
       "0                   0.0           0.0     0.0  ...            1.0   \n",
       "1                   0.0           1.0     0.0  ...            0.0   \n",
       "2                   0.0           0.0     1.0  ...            1.0   \n",
       "3                   0.0           1.0     1.0  ...            1.0   \n",
       "4                   0.0           1.0     1.0  ...            1.0   \n",
       "\n",
       "   NoDocbcCost  GenHlth  MentHlth  PhysHlth  DiffWalk  Sex   Age  Education  \\\n",
       "0          0.0      5.0      18.0      15.0       1.0  0.0   9.0        4.0   \n",
       "1          1.0      3.0       0.0       0.0       0.0  0.0   7.0        6.0   \n",
       "2          1.0      5.0      30.0      30.0       1.0  0.0   9.0        4.0   \n",
       "3          0.0      2.0       0.0       0.0       0.0  0.0  11.0        3.0   \n",
       "4          0.0      2.0       3.0       0.0       0.0  0.0  11.0        5.0   \n",
       "\n",
       "   Income  \n",
       "0     3.0  \n",
       "1     1.0  \n",
       "2     8.0  \n",
       "3     6.0  \n",
       "4     4.0  \n",
       "\n",
       "[5 rows x 22 columns]"
      ]
     },
     "execution_count": 4,
     "metadata": {},
     "output_type": "execute_result"
    }
   ],
   "source": [
    "df.head()"
   ]
  },
  {
   "cell_type": "code",
   "execution_count": 5,
   "id": "683c3ec4",
   "metadata": {
    "execution": {
     "iopub.execute_input": "2022-10-11T14:06:06.805629Z",
     "iopub.status.busy": "2022-10-11T14:06:06.804862Z",
     "iopub.status.idle": "2022-10-11T14:06:07.000453Z",
     "shell.execute_reply": "2022-10-11T14:06:06.998461Z"
    },
    "papermill": {
     "duration": 0.207383,
     "end_time": "2022-10-11T14:06:07.003457",
     "exception": false,
     "start_time": "2022-10-11T14:06:06.796074",
     "status": "completed"
    },
    "tags": []
   },
   "outputs": [
    {
     "name": "stdout",
     "output_type": "stream",
     "text": [
      "Duplicate Rows :  24206\n"
     ]
    },
    {
     "data": {
      "text/html": [
       "<div>\n",
       "<style scoped>\n",
       "    .dataframe tbody tr th:only-of-type {\n",
       "        vertical-align: middle;\n",
       "    }\n",
       "\n",
       "    .dataframe tbody tr th {\n",
       "        vertical-align: top;\n",
       "    }\n",
       "\n",
       "    .dataframe thead th {\n",
       "        text-align: right;\n",
       "    }\n",
       "</style>\n",
       "<table border=\"1\" class=\"dataframe\">\n",
       "  <thead>\n",
       "    <tr style=\"text-align: right;\">\n",
       "      <th></th>\n",
       "      <th>Diabetes_binary</th>\n",
       "      <th>HighBP</th>\n",
       "      <th>HighChol</th>\n",
       "      <th>CholCheck</th>\n",
       "      <th>BMI</th>\n",
       "      <th>Smoker</th>\n",
       "      <th>Stroke</th>\n",
       "      <th>HeartDiseaseorAttack</th>\n",
       "      <th>PhysActivity</th>\n",
       "      <th>Fruits</th>\n",
       "      <th>...</th>\n",
       "      <th>AnyHealthcare</th>\n",
       "      <th>NoDocbcCost</th>\n",
       "      <th>GenHlth</th>\n",
       "      <th>MentHlth</th>\n",
       "      <th>PhysHlth</th>\n",
       "      <th>DiffWalk</th>\n",
       "      <th>Sex</th>\n",
       "      <th>Age</th>\n",
       "      <th>Education</th>\n",
       "      <th>Income</th>\n",
       "    </tr>\n",
       "  </thead>\n",
       "  <tbody>\n",
       "    <tr>\n",
       "      <th>1242</th>\n",
       "      <td>1.0</td>\n",
       "      <td>1.0</td>\n",
       "      <td>1.0</td>\n",
       "      <td>1.0</td>\n",
       "      <td>27.0</td>\n",
       "      <td>1.0</td>\n",
       "      <td>0.0</td>\n",
       "      <td>0.0</td>\n",
       "      <td>0.0</td>\n",
       "      <td>0.0</td>\n",
       "      <td>...</td>\n",
       "      <td>1.0</td>\n",
       "      <td>0.0</td>\n",
       "      <td>5.0</td>\n",
       "      <td>0.0</td>\n",
       "      <td>30.0</td>\n",
       "      <td>1.0</td>\n",
       "      <td>0.0</td>\n",
       "      <td>10.0</td>\n",
       "      <td>4.0</td>\n",
       "      <td>5.0</td>\n",
       "    </tr>\n",
       "    <tr>\n",
       "      <th>1563</th>\n",
       "      <td>0.0</td>\n",
       "      <td>0.0</td>\n",
       "      <td>0.0</td>\n",
       "      <td>1.0</td>\n",
       "      <td>21.0</td>\n",
       "      <td>1.0</td>\n",
       "      <td>0.0</td>\n",
       "      <td>0.0</td>\n",
       "      <td>1.0</td>\n",
       "      <td>1.0</td>\n",
       "      <td>...</td>\n",
       "      <td>1.0</td>\n",
       "      <td>0.0</td>\n",
       "      <td>1.0</td>\n",
       "      <td>0.0</td>\n",
       "      <td>0.0</td>\n",
       "      <td>0.0</td>\n",
       "      <td>0.0</td>\n",
       "      <td>4.0</td>\n",
       "      <td>6.0</td>\n",
       "      <td>8.0</td>\n",
       "    </tr>\n",
       "    <tr>\n",
       "      <th>2700</th>\n",
       "      <td>0.0</td>\n",
       "      <td>0.0</td>\n",
       "      <td>0.0</td>\n",
       "      <td>1.0</td>\n",
       "      <td>32.0</td>\n",
       "      <td>0.0</td>\n",
       "      <td>0.0</td>\n",
       "      <td>0.0</td>\n",
       "      <td>1.0</td>\n",
       "      <td>1.0</td>\n",
       "      <td>...</td>\n",
       "      <td>1.0</td>\n",
       "      <td>0.0</td>\n",
       "      <td>2.0</td>\n",
       "      <td>0.0</td>\n",
       "      <td>0.0</td>\n",
       "      <td>0.0</td>\n",
       "      <td>0.0</td>\n",
       "      <td>5.0</td>\n",
       "      <td>6.0</td>\n",
       "      <td>8.0</td>\n",
       "    </tr>\n",
       "    <tr>\n",
       "      <th>3160</th>\n",
       "      <td>0.0</td>\n",
       "      <td>0.0</td>\n",
       "      <td>0.0</td>\n",
       "      <td>1.0</td>\n",
       "      <td>21.0</td>\n",
       "      <td>0.0</td>\n",
       "      <td>0.0</td>\n",
       "      <td>0.0</td>\n",
       "      <td>1.0</td>\n",
       "      <td>1.0</td>\n",
       "      <td>...</td>\n",
       "      <td>1.0</td>\n",
       "      <td>0.0</td>\n",
       "      <td>1.0</td>\n",
       "      <td>0.0</td>\n",
       "      <td>0.0</td>\n",
       "      <td>0.0</td>\n",
       "      <td>0.0</td>\n",
       "      <td>4.0</td>\n",
       "      <td>6.0</td>\n",
       "      <td>8.0</td>\n",
       "    </tr>\n",
       "    <tr>\n",
       "      <th>3332</th>\n",
       "      <td>0.0</td>\n",
       "      <td>0.0</td>\n",
       "      <td>0.0</td>\n",
       "      <td>1.0</td>\n",
       "      <td>24.0</td>\n",
       "      <td>0.0</td>\n",
       "      <td>0.0</td>\n",
       "      <td>0.0</td>\n",
       "      <td>1.0</td>\n",
       "      <td>1.0</td>\n",
       "      <td>...</td>\n",
       "      <td>1.0</td>\n",
       "      <td>0.0</td>\n",
       "      <td>1.0</td>\n",
       "      <td>0.0</td>\n",
       "      <td>0.0</td>\n",
       "      <td>0.0</td>\n",
       "      <td>1.0</td>\n",
       "      <td>9.0</td>\n",
       "      <td>6.0</td>\n",
       "      <td>8.0</td>\n",
       "    </tr>\n",
       "    <tr>\n",
       "      <th>...</th>\n",
       "      <td>...</td>\n",
       "      <td>...</td>\n",
       "      <td>...</td>\n",
       "      <td>...</td>\n",
       "      <td>...</td>\n",
       "      <td>...</td>\n",
       "      <td>...</td>\n",
       "      <td>...</td>\n",
       "      <td>...</td>\n",
       "      <td>...</td>\n",
       "      <td>...</td>\n",
       "      <td>...</td>\n",
       "      <td>...</td>\n",
       "      <td>...</td>\n",
       "      <td>...</td>\n",
       "      <td>...</td>\n",
       "      <td>...</td>\n",
       "      <td>...</td>\n",
       "      <td>...</td>\n",
       "      <td>...</td>\n",
       "      <td>...</td>\n",
       "    </tr>\n",
       "    <tr>\n",
       "      <th>253492</th>\n",
       "      <td>1.0</td>\n",
       "      <td>1.0</td>\n",
       "      <td>1.0</td>\n",
       "      <td>1.0</td>\n",
       "      <td>33.0</td>\n",
       "      <td>0.0</td>\n",
       "      <td>0.0</td>\n",
       "      <td>0.0</td>\n",
       "      <td>1.0</td>\n",
       "      <td>1.0</td>\n",
       "      <td>...</td>\n",
       "      <td>1.0</td>\n",
       "      <td>0.0</td>\n",
       "      <td>3.0</td>\n",
       "      <td>0.0</td>\n",
       "      <td>0.0</td>\n",
       "      <td>0.0</td>\n",
       "      <td>1.0</td>\n",
       "      <td>9.0</td>\n",
       "      <td>6.0</td>\n",
       "      <td>6.0</td>\n",
       "    </tr>\n",
       "    <tr>\n",
       "      <th>253550</th>\n",
       "      <td>0.0</td>\n",
       "      <td>0.0</td>\n",
       "      <td>0.0</td>\n",
       "      <td>1.0</td>\n",
       "      <td>25.0</td>\n",
       "      <td>0.0</td>\n",
       "      <td>0.0</td>\n",
       "      <td>0.0</td>\n",
       "      <td>1.0</td>\n",
       "      <td>1.0</td>\n",
       "      <td>...</td>\n",
       "      <td>1.0</td>\n",
       "      <td>0.0</td>\n",
       "      <td>1.0</td>\n",
       "      <td>0.0</td>\n",
       "      <td>0.0</td>\n",
       "      <td>0.0</td>\n",
       "      <td>0.0</td>\n",
       "      <td>7.0</td>\n",
       "      <td>6.0</td>\n",
       "      <td>8.0</td>\n",
       "    </tr>\n",
       "    <tr>\n",
       "      <th>253563</th>\n",
       "      <td>0.0</td>\n",
       "      <td>0.0</td>\n",
       "      <td>1.0</td>\n",
       "      <td>1.0</td>\n",
       "      <td>24.0</td>\n",
       "      <td>1.0</td>\n",
       "      <td>0.0</td>\n",
       "      <td>0.0</td>\n",
       "      <td>1.0</td>\n",
       "      <td>1.0</td>\n",
       "      <td>...</td>\n",
       "      <td>1.0</td>\n",
       "      <td>0.0</td>\n",
       "      <td>2.0</td>\n",
       "      <td>0.0</td>\n",
       "      <td>0.0</td>\n",
       "      <td>0.0</td>\n",
       "      <td>1.0</td>\n",
       "      <td>8.0</td>\n",
       "      <td>6.0</td>\n",
       "      <td>8.0</td>\n",
       "    </tr>\n",
       "    <tr>\n",
       "      <th>253597</th>\n",
       "      <td>0.0</td>\n",
       "      <td>0.0</td>\n",
       "      <td>0.0</td>\n",
       "      <td>1.0</td>\n",
       "      <td>24.0</td>\n",
       "      <td>0.0</td>\n",
       "      <td>0.0</td>\n",
       "      <td>0.0</td>\n",
       "      <td>1.0</td>\n",
       "      <td>1.0</td>\n",
       "      <td>...</td>\n",
       "      <td>1.0</td>\n",
       "      <td>0.0</td>\n",
       "      <td>2.0</td>\n",
       "      <td>0.0</td>\n",
       "      <td>0.0</td>\n",
       "      <td>0.0</td>\n",
       "      <td>0.0</td>\n",
       "      <td>5.0</td>\n",
       "      <td>6.0</td>\n",
       "      <td>8.0</td>\n",
       "    </tr>\n",
       "    <tr>\n",
       "      <th>253638</th>\n",
       "      <td>0.0</td>\n",
       "      <td>0.0</td>\n",
       "      <td>0.0</td>\n",
       "      <td>1.0</td>\n",
       "      <td>24.0</td>\n",
       "      <td>0.0</td>\n",
       "      <td>0.0</td>\n",
       "      <td>0.0</td>\n",
       "      <td>1.0</td>\n",
       "      <td>1.0</td>\n",
       "      <td>...</td>\n",
       "      <td>1.0</td>\n",
       "      <td>0.0</td>\n",
       "      <td>2.0</td>\n",
       "      <td>0.0</td>\n",
       "      <td>0.0</td>\n",
       "      <td>0.0</td>\n",
       "      <td>1.0</td>\n",
       "      <td>1.0</td>\n",
       "      <td>4.0</td>\n",
       "      <td>6.0</td>\n",
       "    </tr>\n",
       "  </tbody>\n",
       "</table>\n",
       "<p>24206 rows × 22 columns</p>\n",
       "</div>"
      ],
      "text/plain": [
       "        Diabetes_binary  HighBP  HighChol  CholCheck   BMI  Smoker  Stroke  \\\n",
       "1242                1.0     1.0       1.0        1.0  27.0     1.0     0.0   \n",
       "1563                0.0     0.0       0.0        1.0  21.0     1.0     0.0   \n",
       "2700                0.0     0.0       0.0        1.0  32.0     0.0     0.0   \n",
       "3160                0.0     0.0       0.0        1.0  21.0     0.0     0.0   \n",
       "3332                0.0     0.0       0.0        1.0  24.0     0.0     0.0   \n",
       "...                 ...     ...       ...        ...   ...     ...     ...   \n",
       "253492              1.0     1.0       1.0        1.0  33.0     0.0     0.0   \n",
       "253550              0.0     0.0       0.0        1.0  25.0     0.0     0.0   \n",
       "253563              0.0     0.0       1.0        1.0  24.0     1.0     0.0   \n",
       "253597              0.0     0.0       0.0        1.0  24.0     0.0     0.0   \n",
       "253638              0.0     0.0       0.0        1.0  24.0     0.0     0.0   \n",
       "\n",
       "        HeartDiseaseorAttack  PhysActivity  Fruits  ...  AnyHealthcare  \\\n",
       "1242                     0.0           0.0     0.0  ...            1.0   \n",
       "1563                     0.0           1.0     1.0  ...            1.0   \n",
       "2700                     0.0           1.0     1.0  ...            1.0   \n",
       "3160                     0.0           1.0     1.0  ...            1.0   \n",
       "3332                     0.0           1.0     1.0  ...            1.0   \n",
       "...                      ...           ...     ...  ...            ...   \n",
       "253492                   0.0           1.0     1.0  ...            1.0   \n",
       "253550                   0.0           1.0     1.0  ...            1.0   \n",
       "253563                   0.0           1.0     1.0  ...            1.0   \n",
       "253597                   0.0           1.0     1.0  ...            1.0   \n",
       "253638                   0.0           1.0     1.0  ...            1.0   \n",
       "\n",
       "        NoDocbcCost  GenHlth  MentHlth  PhysHlth  DiffWalk  Sex   Age  \\\n",
       "1242            0.0      5.0       0.0      30.0       1.0  0.0  10.0   \n",
       "1563            0.0      1.0       0.0       0.0       0.0  0.0   4.0   \n",
       "2700            0.0      2.0       0.0       0.0       0.0  0.0   5.0   \n",
       "3160            0.0      1.0       0.0       0.0       0.0  0.0   4.0   \n",
       "3332            0.0      1.0       0.0       0.0       0.0  1.0   9.0   \n",
       "...             ...      ...       ...       ...       ...  ...   ...   \n",
       "253492          0.0      3.0       0.0       0.0       0.0  1.0   9.0   \n",
       "253550          0.0      1.0       0.0       0.0       0.0  0.0   7.0   \n",
       "253563          0.0      2.0       0.0       0.0       0.0  1.0   8.0   \n",
       "253597          0.0      2.0       0.0       0.0       0.0  0.0   5.0   \n",
       "253638          0.0      2.0       0.0       0.0       0.0  1.0   1.0   \n",
       "\n",
       "        Education  Income  \n",
       "1242          4.0     5.0  \n",
       "1563          6.0     8.0  \n",
       "2700          6.0     8.0  \n",
       "3160          6.0     8.0  \n",
       "3332          6.0     8.0  \n",
       "...           ...     ...  \n",
       "253492        6.0     6.0  \n",
       "253550        6.0     8.0  \n",
       "253563        6.0     8.0  \n",
       "253597        6.0     8.0  \n",
       "253638        4.0     6.0  \n",
       "\n",
       "[24206 rows x 22 columns]"
      ]
     },
     "execution_count": 5,
     "metadata": {},
     "output_type": "execute_result"
    }
   ],
   "source": [
    "# Checking duplicates\n",
    "\n",
    "duplicate = df[df.duplicated()]\n",
    "print(\"Duplicate Rows : \",len(duplicate))\n",
    "duplicate"
   ]
  },
  {
   "cell_type": "code",
   "execution_count": 6,
   "id": "00f77683",
   "metadata": {
    "execution": {
     "iopub.execute_input": "2022-10-11T14:06:07.021884Z",
     "iopub.status.busy": "2022-10-11T14:06:07.021316Z",
     "iopub.status.idle": "2022-10-11T14:06:07.188862Z",
     "shell.execute_reply": "2022-10-11T14:06:07.187271Z"
    },
    "papermill": {
     "duration": 0.18018,
     "end_time": "2022-10-11T14:06:07.191826",
     "exception": false,
     "start_time": "2022-10-11T14:06:07.011646",
     "status": "completed"
    },
    "tags": []
   },
   "outputs": [],
   "source": [
    "# Removing duplicate rows from the dataset\n",
    "df.drop_duplicates(inplace = True)"
   ]
  },
  {
   "cell_type": "code",
   "execution_count": 7,
   "id": "8f89b718",
   "metadata": {
    "execution": {
     "iopub.execute_input": "2022-10-11T14:06:07.209156Z",
     "iopub.status.busy": "2022-10-11T14:06:07.208687Z",
     "iopub.status.idle": "2022-10-11T14:06:07.342332Z",
     "shell.execute_reply": "2022-10-11T14:06:07.339693Z"
    },
    "papermill": {
     "duration": 0.146136,
     "end_time": "2022-10-11T14:06:07.345553",
     "exception": false,
     "start_time": "2022-10-11T14:06:07.199417",
     "status": "completed"
    },
    "tags": []
   },
   "outputs": [
    {
     "name": "stdout",
     "output_type": "stream",
     "text": [
      "Duplicate Rows :  0\n"
     ]
    }
   ],
   "source": [
    "duplicate = df[df.duplicated()]\n",
    "print(\"Duplicate Rows : \", len(duplicate))"
   ]
  },
  {
   "cell_type": "code",
   "execution_count": 8,
   "id": "837fa173",
   "metadata": {
    "execution": {
     "iopub.execute_input": "2022-10-11T14:06:07.363314Z",
     "iopub.status.busy": "2022-10-11T14:06:07.362878Z",
     "iopub.status.idle": "2022-10-11T14:06:07.376736Z",
     "shell.execute_reply": "2022-10-11T14:06:07.374918Z"
    },
    "papermill": {
     "duration": 0.026207,
     "end_time": "2022-10-11T14:06:07.379575",
     "exception": false,
     "start_time": "2022-10-11T14:06:07.353368",
     "status": "completed"
    },
    "tags": []
   },
   "outputs": [
    {
     "data": {
      "text/plain": [
       "0.0    194377\n",
       "1.0     35097\n",
       "Name: Diabetes_binary, dtype: int64"
      ]
     },
     "execution_count": 8,
     "metadata": {},
     "output_type": "execute_result"
    }
   ],
   "source": [
    "# in our dataset the label is diabetes column\n",
    "# This will return the label distribution count \n",
    "df['Diabetes_binary'].value_counts()"
   ]
  },
  {
   "cell_type": "code",
   "execution_count": 9,
   "id": "f7c34767",
   "metadata": {
    "execution": {
     "iopub.execute_input": "2022-10-11T14:06:07.397427Z",
     "iopub.status.busy": "2022-10-11T14:06:07.396899Z",
     "iopub.status.idle": "2022-10-11T14:06:07.405468Z",
     "shell.execute_reply": "2022-10-11T14:06:07.403961Z"
    },
    "papermill": {
     "duration": 0.020607,
     "end_time": "2022-10-11T14:06:07.408117",
     "exception": false,
     "start_time": "2022-10-11T14:06:07.387510",
     "status": "completed"
    },
    "tags": []
   },
   "outputs": [
    {
     "data": {
      "text/plain": [
       "(229474, 22)"
      ]
     },
     "execution_count": 9,
     "metadata": {},
     "output_type": "execute_result"
    }
   ],
   "source": [
    "df.shape"
   ]
  },
  {
   "cell_type": "code",
   "execution_count": 10,
   "id": "11dbc7c2",
   "metadata": {
    "execution": {
     "iopub.execute_input": "2022-10-11T14:06:07.426877Z",
     "iopub.status.busy": "2022-10-11T14:06:07.425454Z",
     "iopub.status.idle": "2022-10-11T14:06:07.710517Z",
     "shell.execute_reply": "2022-10-11T14:06:07.708722Z"
    },
    "papermill": {
     "duration": 0.297276,
     "end_time": "2022-10-11T14:06:07.713297",
     "exception": false,
     "start_time": "2022-10-11T14:06:07.416021",
     "status": "completed"
    },
    "tags": []
   },
   "outputs": [
    {
     "data": {
      "text/plain": [
       "<AxesSubplot:xlabel='Diabetes_binary', ylabel='count'>"
      ]
     },
     "execution_count": 10,
     "metadata": {},
     "output_type": "execute_result"
    },
    {
     "data": {
      "image/png": "[encoded data removed]",
      "text/plain": [
       "<Figure size 432x288 with 1 Axes>"
      ]
     },
     "metadata": {
      "needs_background": "light"
     },
     "output_type": "display_data"
    }
   ],
   "source": [
    "# plotting the label distribution\n",
    "sns.countplot(df['Diabetes_binary'])"
   ]
  },
  {
   "cell_type": "code",
   "execution_count": 11,
   "id": "f559d7e3",
   "metadata": {
    "execution": {
     "iopub.execute_input": "2022-10-11T14:06:07.734319Z",
     "iopub.status.busy": "2022-10-11T14:06:07.732935Z",
     "iopub.status.idle": "2022-10-11T14:06:07.827980Z",
     "shell.execute_reply": "2022-10-11T14:06:07.826204Z"
    },
    "papermill": {
     "duration": 0.107884,
     "end_time": "2022-10-11T14:06:07.831066",
     "exception": false,
     "start_time": "2022-10-11T14:06:07.723182",
     "status": "completed"
    },
    "tags": []
   },
   "outputs": [],
   "source": [
    "X = df.drop('Diabetes_binary', axis = 1) # features\n",
    "y = df[['Diabetes_binary']] # labels\n",
    "\n",
    "# splitting the features and labels into train and test with test size = 20% and train size = 80%\n",
    "X_train, X_test, y_train, y_test = train_test_split(X, y, test_size=0.2, random_state=10)"
   ]
  },
  {
   "cell_type": "code",
   "execution_count": 12,
   "id": "7a100e3b",
   "metadata": {
    "execution": {
     "iopub.execute_input": "2022-10-11T14:06:07.850295Z",
     "iopub.status.busy": "2022-10-11T14:06:07.849453Z",
     "iopub.status.idle": "2022-10-11T14:07:47.679669Z",
     "shell.execute_reply": "2022-10-11T14:07:47.677323Z"
    },
    "papermill": {
     "duration": 99.844867,
     "end_time": "2022-10-11T14:07:47.684521",
     "exception": false,
     "start_time": "2022-10-11T14:06:07.839654",
     "status": "completed"
    },
    "tags": []
   },
   "outputs": [],
   "source": [
    "# Initializing the model\n",
    "model = RandomForestClassifier(n_estimators = 300, \n",
    "                               criterion = 'entropy',\n",
    "                               min_samples_split=10, \n",
    "                               random_state=0)\n",
    "# fitting the model on the train data\n",
    "model.fit(X_train, y_train)\n",
    "# predicting values on test data\n",
    "y_pred = model.predict(X_test)"
   ]
  },
  {
   "cell_type": "code",
   "execution_count": 13,
   "id": "16acbf88",
   "metadata": {
    "execution": {
     "iopub.execute_input": "2022-10-11T14:07:47.704511Z",
     "iopub.status.busy": "2022-10-11T14:07:47.704031Z",
     "iopub.status.idle": "2022-10-11T14:07:47.727829Z",
     "shell.execute_reply": "2022-10-11T14:07:47.726454Z"
    },
    "papermill": {
     "duration": 0.036918,
     "end_time": "2022-10-11T14:07:47.730421",
     "exception": false,
     "start_time": "2022-10-11T14:07:47.693503",
     "status": "completed"
    },
    "tags": []
   },
   "outputs": [
    {
     "data": {
      "text/html": [
       "<div>\n",
       "<style scoped>\n",
       "    .dataframe tbody tr th:only-of-type {\n",
       "        vertical-align: middle;\n",
       "    }\n",
       "\n",
       "    .dataframe tbody tr th {\n",
       "        vertical-align: top;\n",
       "    }\n",
       "\n",
       "    .dataframe thead th {\n",
       "        text-align: right;\n",
       "    }\n",
       "</style>\n",
       "<table border=\"1\" class=\"dataframe\">\n",
       "  <thead>\n",
       "    <tr style=\"text-align: right;\">\n",
       "      <th></th>\n",
       "      <th>True values</th>\n",
       "      <th>Predicted values</th>\n",
       "    </tr>\n",
       "  </thead>\n",
       "  <tbody>\n",
       "    <tr>\n",
       "      <th>194499</th>\n",
       "      <td>0.0</td>\n",
       "      <td>0.0</td>\n",
       "    </tr>\n",
       "    <tr>\n",
       "      <th>107401</th>\n",
       "      <td>0.0</td>\n",
       "      <td>0.0</td>\n",
       "    </tr>\n",
       "    <tr>\n",
       "      <th>16210</th>\n",
       "      <td>0.0</td>\n",
       "      <td>0.0</td>\n",
       "    </tr>\n",
       "    <tr>\n",
       "      <th>127385</th>\n",
       "      <td>1.0</td>\n",
       "      <td>0.0</td>\n",
       "    </tr>\n",
       "    <tr>\n",
       "      <th>162339</th>\n",
       "      <td>0.0</td>\n",
       "      <td>0.0</td>\n",
       "    </tr>\n",
       "    <tr>\n",
       "      <th>...</th>\n",
       "      <td>...</td>\n",
       "      <td>...</td>\n",
       "    </tr>\n",
       "    <tr>\n",
       "      <th>180134</th>\n",
       "      <td>0.0</td>\n",
       "      <td>0.0</td>\n",
       "    </tr>\n",
       "    <tr>\n",
       "      <th>130054</th>\n",
       "      <td>0.0</td>\n",
       "      <td>0.0</td>\n",
       "    </tr>\n",
       "    <tr>\n",
       "      <th>233177</th>\n",
       "      <td>0.0</td>\n",
       "      <td>0.0</td>\n",
       "    </tr>\n",
       "    <tr>\n",
       "      <th>209982</th>\n",
       "      <td>1.0</td>\n",
       "      <td>0.0</td>\n",
       "    </tr>\n",
       "    <tr>\n",
       "      <th>164868</th>\n",
       "      <td>0.0</td>\n",
       "      <td>0.0</td>\n",
       "    </tr>\n",
       "  </tbody>\n",
       "</table>\n",
       "<p>45895 rows × 2 columns</p>\n",
       "</div>"
      ],
      "text/plain": [
       "        True values  Predicted values\n",
       "194499          0.0               0.0\n",
       "107401          0.0               0.0\n",
       "16210           0.0               0.0\n",
       "127385          1.0               0.0\n",
       "162339          0.0               0.0\n",
       "...             ...               ...\n",
       "180134          0.0               0.0\n",
       "130054          0.0               0.0\n",
       "233177          0.0               0.0\n",
       "209982          1.0               0.0\n",
       "164868          0.0               0.0\n",
       "\n",
       "[45895 rows x 2 columns]"
      ]
     },
     "execution_count": 13,
     "metadata": {},
     "output_type": "execute_result"
    }
   ],
   "source": [
    "# Creating a new dataframe with true and predicted values\n",
    "df_pred = pd.DataFrame()\n",
    "df_pred['True values'] = y_test\n",
    "df_pred['Predicted values'] = y_pred\n",
    "df_pred"
   ]
  },
  {
   "cell_type": "code",
   "execution_count": 14,
   "id": "eb08ff3b",
   "metadata": {
    "execution": {
     "iopub.execute_input": "2022-10-11T14:07:47.749225Z",
     "iopub.status.busy": "2022-10-11T14:07:47.748810Z",
     "iopub.status.idle": "2022-10-11T14:07:47.874695Z",
     "shell.execute_reply": "2022-10-11T14:07:47.872593Z"
    },
    "papermill": {
     "duration": 0.138456,
     "end_time": "2022-10-11T14:07:47.877473",
     "exception": false,
     "start_time": "2022-10-11T14:07:47.739017",
     "status": "completed"
    },
    "tags": []
   },
   "outputs": [
    {
     "name": "stdout",
     "output_type": "stream",
     "text": [
      "\n",
      "Accuracy score of Random Forest Classifier : 85.3%\n",
      "\n",
      "__________________________________________________\n",
      "\n",
      "Classification_report : \n",
      "              precision    recall  f1-score   support\n",
      "\n",
      "         0.0       0.86      0.98      0.92     38895\n",
      "         1.0       0.57      0.15      0.24      7000\n",
      "\n",
      "    accuracy                           0.85     45895\n",
      "   macro avg       0.72      0.56      0.58     45895\n",
      "weighted avg       0.82      0.85      0.81     45895\n",
      "\n",
      "\n",
      "__________________________________________________\n",
      "\n",
      "Mean squared error : 0.1469659004248829\n",
      "\n",
      "__________________________________________________\n",
      "\n",
      "Root mean squared error : 0.38336131837325854\n"
     ]
    }
   ],
   "source": [
    "# Evaluation\n",
    "\n",
    "# calculating the accuracy of the model\n",
    "acc = {}\n",
    "accuracy = accuracy_score(y_test, y_pred)\n",
    "acc['Random Forest Classifier'] = accuracy\n",
    "\n",
    "# calculating the classification report \n",
    "clfreport = classification_report(y_test, y_pred) \n",
    "\n",
    "# calculating the mse \n",
    "mse = mean_squared_error(y_test, y_pred)\n",
    "\n",
    "# calculating the rmse \n",
    "rmse = math.sqrt(mse)\n",
    "print('\\nAccuracy score of Random Forest Classifier : ' + str(round(accuracy*100, 2))+'%')\n",
    "print(\"\\n\"+\"_\"*50)\n",
    "print('\\nClassification_report : ')\n",
    "print(clfreport)\n",
    "print(\"\\n\"+\"_\"*50)\n",
    "print('\\nMean squared error : '+ str(mse))\n",
    "print(\"\\n\"+\"_\"*50)\n",
    "print('\\nRoot mean squared error : '+ str(rmse))"
   ]
  },
  {
   "cell_type": "markdown",
   "id": "c0da6af7",
   "metadata": {
    "papermill": {
     "duration": 0.008213,
     "end_time": "2022-10-11T14:07:47.894746",
     "exception": false,
     "start_time": "2022-10-11T14:07:47.886533",
     "status": "completed"
    },
    "tags": []
   },
   "source": [
    "# **Oversampling**"
   ]
  },
  {
   "cell_type": "markdown",
   "id": "115e1c81",
   "metadata": {
    "papermill": {
     "duration": 0.008177,
     "end_time": "2022-10-11T14:07:47.911678",
     "exception": false,
     "start_time": "2022-10-11T14:07:47.903501",
     "status": "completed"
    },
    "tags": []
   },
   "source": [
    "**SMOTE method**"
   ]
  },
  {
   "cell_type": "code",
   "execution_count": 15,
   "id": "6985d41c",
   "metadata": {
    "execution": {
     "iopub.execute_input": "2022-10-11T14:07:47.931147Z",
     "iopub.status.busy": "2022-10-11T14:07:47.930719Z",
     "iopub.status.idle": "2022-10-11T14:08:16.749124Z",
     "shell.execute_reply": "2022-10-11T14:08:16.747696Z"
    },
    "papermill": {
     "duration": 28.831605,
     "end_time": "2022-10-11T14:08:16.752397",
     "exception": false,
     "start_time": "2022-10-11T14:07:47.920792",
     "status": "completed"
    },
    "tags": []
   },
   "outputs": [],
   "source": [
    "from imblearn.over_sampling import SMOTE\n",
    "# auto resampling. The strategy can be changed as required.\n",
    "sm = SMOTE(sampling_strategy='auto', random_state=42)\n",
    "# Fit the model to generate the data.\n",
    "oversampled_X, oversampled_Y = sm.fit_resample(df.drop('Diabetes_binary', axis=1), df['Diabetes_binary'])\n",
    "oversampled = pd.concat([pd.DataFrame(oversampled_Y), pd.DataFrame(oversampled_X)], axis=1)"
   ]
  },
  {
   "cell_type": "code",
   "execution_count": 16,
   "id": "c8057786",
   "metadata": {
    "execution": {
     "iopub.execute_input": "2022-10-11T14:08:16.772149Z",
     "iopub.status.busy": "2022-10-11T14:08:16.771668Z",
     "iopub.status.idle": "2022-10-11T14:08:17.002239Z",
     "shell.execute_reply": "2022-10-11T14:08:17.000872Z"
    },
    "papermill": {
     "duration": 0.244564,
     "end_time": "2022-10-11T14:08:17.005583",
     "exception": false,
     "start_time": "2022-10-11T14:08:16.761019",
     "status": "completed"
    },
    "tags": []
   },
   "outputs": [
    {
     "data": {
      "text/plain": [
       "<AxesSubplot:xlabel='Diabetes_binary', ylabel='count'>"
      ]
     },
     "execution_count": 16,
     "metadata": {},
     "output_type": "execute_result"
    },
    {
     "data": {
      "image/png": "[encoded data removed]",
      "text/plain": [
       "<Figure size 432x288 with 1 Axes>"
      ]
     },
     "metadata": {
      "needs_background": "light"
     },
     "output_type": "display_data"
    }
   ],
   "source": [
    "sns.countplot(oversampled['Diabetes_binary'])"
   ]
  },
  {
   "cell_type": "code",
   "execution_count": 17,
   "id": "6e43d88f",
   "metadata": {
    "execution": {
     "iopub.execute_input": "2022-10-11T14:08:17.025589Z",
     "iopub.status.busy": "2022-10-11T14:08:17.025109Z",
     "iopub.status.idle": "2022-10-11T14:08:17.224928Z",
     "shell.execute_reply": "2022-10-11T14:08:17.223580Z"
    },
    "papermill": {
     "duration": 0.213061,
     "end_time": "2022-10-11T14:08:17.227532",
     "exception": false,
     "start_time": "2022-10-11T14:08:17.014471",
     "status": "completed"
    },
    "tags": []
   },
   "outputs": [],
   "source": [
    "X1 = oversampled.drop('Diabetes_binary', axis = 1) #features\n",
    "y1 = oversampled[['Diabetes_binary']] #labels\n",
    "\n",
    "# splitting the features and labels into train and test with test size = 20% and train size = 80%\n",
    "X1_train, X1_test, y1_train, y1_test = train_test_split(X1, y1, test_size=0.2, random_state=10)"
   ]
  },
  {
   "cell_type": "code",
   "execution_count": 18,
   "id": "f7b37421",
   "metadata": {
    "execution": {
     "iopub.execute_input": "2022-10-11T14:08:17.248240Z",
     "iopub.status.busy": "2022-10-11T14:08:17.247761Z",
     "iopub.status.idle": "2022-10-11T14:12:33.870154Z",
     "shell.execute_reply": "2022-10-11T14:12:33.868664Z"
    },
    "papermill": {
     "duration": 256.636517,
     "end_time": "2022-10-11T14:12:33.873569",
     "exception": false,
     "start_time": "2022-10-11T14:08:17.237052",
     "status": "completed"
    },
    "tags": []
   },
   "outputs": [],
   "source": [
    "# Initializing the model\n",
    "model1 = RandomForestClassifier(n_estimators = 300, \n",
    "                                 criterion = 'entropy',\n",
    "                                 min_samples_split=10, \n",
    "                                 random_state=0)\n",
    "# fitting the model on the train data\n",
    "model1.fit(X1_train, y1_train)\n",
    "# predicting values on test data\n",
    "y_pred1 = model1.predict(X1_test)"
   ]
  },
  {
   "cell_type": "code",
   "execution_count": 19,
   "id": "b6dfcf42",
   "metadata": {
    "execution": {
     "iopub.execute_input": "2022-10-11T14:12:33.895700Z",
     "iopub.status.busy": "2022-10-11T14:12:33.894421Z",
     "iopub.status.idle": "2022-10-11T14:12:33.922073Z",
     "shell.execute_reply": "2022-10-11T14:12:33.920858Z"
    },
    "papermill": {
     "duration": 0.041071,
     "end_time": "2022-10-11T14:12:33.924841",
     "exception": false,
     "start_time": "2022-10-11T14:12:33.883770",
     "status": "completed"
    },
    "tags": []
   },
   "outputs": [
    {
     "data": {
      "text/html": [
       "<div>\n",
       "<style scoped>\n",
       "    .dataframe tbody tr th:only-of-type {\n",
       "        vertical-align: middle;\n",
       "    }\n",
       "\n",
       "    .dataframe tbody tr th {\n",
       "        vertical-align: top;\n",
       "    }\n",
       "\n",
       "    .dataframe thead th {\n",
       "        text-align: right;\n",
       "    }\n",
       "</style>\n",
       "<table border=\"1\" class=\"dataframe\">\n",
       "  <thead>\n",
       "    <tr style=\"text-align: right;\">\n",
       "      <th></th>\n",
       "      <th>True values</th>\n",
       "      <th>Predicted values</th>\n",
       "    </tr>\n",
       "  </thead>\n",
       "  <tbody>\n",
       "    <tr>\n",
       "      <th>254036</th>\n",
       "      <td>1.0</td>\n",
       "      <td>1.0</td>\n",
       "    </tr>\n",
       "    <tr>\n",
       "      <th>44602</th>\n",
       "      <td>0.0</td>\n",
       "      <td>0.0</td>\n",
       "    </tr>\n",
       "    <tr>\n",
       "      <th>273742</th>\n",
       "      <td>1.0</td>\n",
       "      <td>1.0</td>\n",
       "    </tr>\n",
       "    <tr>\n",
       "      <th>242614</th>\n",
       "      <td>1.0</td>\n",
       "      <td>1.0</td>\n",
       "    </tr>\n",
       "    <tr>\n",
       "      <th>258892</th>\n",
       "      <td>1.0</td>\n",
       "      <td>1.0</td>\n",
       "    </tr>\n",
       "    <tr>\n",
       "      <th>...</th>\n",
       "      <td>...</td>\n",
       "      <td>...</td>\n",
       "    </tr>\n",
       "    <tr>\n",
       "      <th>369226</th>\n",
       "      <td>1.0</td>\n",
       "      <td>1.0</td>\n",
       "    </tr>\n",
       "    <tr>\n",
       "      <th>109960</th>\n",
       "      <td>0.0</td>\n",
       "      <td>0.0</td>\n",
       "    </tr>\n",
       "    <tr>\n",
       "      <th>131412</th>\n",
       "      <td>0.0</td>\n",
       "      <td>0.0</td>\n",
       "    </tr>\n",
       "    <tr>\n",
       "      <th>74134</th>\n",
       "      <td>0.0</td>\n",
       "      <td>0.0</td>\n",
       "    </tr>\n",
       "    <tr>\n",
       "      <th>378632</th>\n",
       "      <td>1.0</td>\n",
       "      <td>1.0</td>\n",
       "    </tr>\n",
       "  </tbody>\n",
       "</table>\n",
       "<p>77751 rows × 2 columns</p>\n",
       "</div>"
      ],
      "text/plain": [
       "        True values  Predicted values\n",
       "254036          1.0               1.0\n",
       "44602           0.0               0.0\n",
       "273742          1.0               1.0\n",
       "242614          1.0               1.0\n",
       "258892          1.0               1.0\n",
       "...             ...               ...\n",
       "369226          1.0               1.0\n",
       "109960          0.0               0.0\n",
       "131412          0.0               0.0\n",
       "74134           0.0               0.0\n",
       "378632          1.0               1.0\n",
       "\n",
       "[77751 rows x 2 columns]"
      ]
     },
     "execution_count": 19,
     "metadata": {},
     "output_type": "execute_result"
    }
   ],
   "source": [
    "# Creating a new dataframe with true and predicted values\n",
    "df_pred1 = pd.DataFrame()\n",
    "df_pred1['True values'] = y1_test\n",
    "df_pred1['Predicted values'] = y_pred1\n",
    "df_pred1"
   ]
  },
  {
   "cell_type": "code",
   "execution_count": 20,
   "id": "db606a52",
   "metadata": {
    "execution": {
     "iopub.execute_input": "2022-10-11T14:12:33.950062Z",
     "iopub.status.busy": "2022-10-11T14:12:33.947887Z",
     "iopub.status.idle": "2022-10-11T14:12:34.192661Z",
     "shell.execute_reply": "2022-10-11T14:12:34.191568Z"
    },
    "papermill": {
     "duration": 0.260294,
     "end_time": "2022-10-11T14:12:34.195886",
     "exception": false,
     "start_time": "2022-10-11T14:12:33.935592",
     "status": "completed"
    },
    "tags": []
   },
   "outputs": [
    {
     "name": "stdout",
     "output_type": "stream",
     "text": [
      "\n",
      "Accuracy score of Random Forest Classifier : 91.25%\n",
      "\n",
      "__________________________________________________\n",
      "\n",
      "Classification_report : \n",
      "              precision    recall  f1-score   support\n",
      "\n",
      "         0.0       0.87      0.96      0.92     39018\n",
      "         1.0       0.96      0.86      0.91     38733\n",
      "\n",
      "    accuracy                           0.91     77751\n",
      "   macro avg       0.92      0.91      0.91     77751\n",
      "weighted avg       0.92      0.91      0.91     77751\n",
      "\n",
      "\n",
      "__________________________________________________\n",
      "\n",
      "Mean squared error : 0.08745868220344433\n",
      "\n",
      "__________________________________________________\n",
      "\n",
      "Root mean squared error : 0.2957341410852733\n"
     ]
    }
   ],
   "source": [
    "# Evaluation\n",
    "\n",
    "# calculating the accuracy of the model\n",
    "acc1 = {}\n",
    "accuracy1 = accuracy_score(y1_test, y_pred1)\n",
    "acc1['Random Forest Classifier'] = accuracy1\n",
    "\n",
    "# calculating the classification report \n",
    "clfreport1 = classification_report(y1_test, y_pred1) \n",
    "\n",
    "# calculating the mse \n",
    "mse1 = mean_squared_error(y1_test, y_pred1)\n",
    "\n",
    "# calculating the rmse \n",
    "rmse1 = math.sqrt(mse1)\n",
    "print('\\nAccuracy score of Random Forest Classifier : ' + str(round(accuracy1*100, 2))+'%')\n",
    "print(\"\\n\"+\"_\"*50)\n",
    "print('\\nClassification_report : ')\n",
    "print(clfreport1)\n",
    "print(\"\\n\"+\"_\"*50)\n",
    "print('\\nMean squared error : '+ str(mse1))\n",
    "print(\"\\n\"+\"_\"*50)\n",
    "print('\\nRoot mean squared error : '+ str(rmse1))"
   ]
  },
  {
   "cell_type": "code",
   "execution_count": null,
   "id": "8b857a21",
   "metadata": {
    "papermill": {
     "duration": 0.008859,
     "end_time": "2022-10-11T14:12:34.215897",
     "exception": false,
     "start_time": "2022-10-11T14:12:34.207038",
     "status": "completed"
    },
    "tags": []
   },
   "outputs": [],
   "source": []
  },
  {
   "cell_type": "code",
   "execution_count": null,
   "id": "47a6f460",
   "metadata": {
    "papermill": {
     "duration": 0.00871,
     "end_time": "2022-10-11T14:12:34.233644",
     "exception": false,
     "start_time": "2022-10-11T14:12:34.224934",
     "status": "completed"
    },
    "tags": []
   },
   "outputs": [],
   "source": []
  },
  {
   "cell_type": "code",
   "execution_count": null,
   "id": "00a928ad",
   "metadata": {
    "papermill": {
     "duration": 0.008787,
     "end_time": "2022-10-11T14:12:34.251524",
     "exception": false,
     "start_time": "2022-10-11T14:12:34.242737",
     "status": "completed"
    },
    "tags": []
   },
   "outputs": [],
   "source": []
  }
 ],
 "metadata": {
  "kernelspec": {
   "display_name": "Python 3",
   "language": "python",
   "name": "python3"
  },
  "language_info": {
   "codemirror_mode": {
    "name": "ipython",
    "version": 3
   },
   "file_extension": ".py",
   "mimetype": "text/x-python",
   "name": "python",
   "nbconvert_exporter": "python",
   "pygments_lexer": "ipython3",
   "version": "3.7.12"
  },
  "papermill": {
   "default_parameters": {},
   "duration": 408.380323,
   "end_time": "2022-10-11T14:12:35.588254",
   "environment_variables": {},
   "exception": null,
   "input_path": "__notebook__.ipynb",
   "output_path": "__notebook__.ipynb",
   "parameters": {},
   "start_time": "2022-10-11T14:05:47.207931",
   "version": "2.3.4"
  }
 },
 "nbformat": 4,
 "nbformat_minor": 5
}
